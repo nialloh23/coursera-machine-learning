{
 "cells": [
  {
   "cell_type": "markdown",
   "metadata": {
    "collapsed": true
   },
   "source": [
    "# Linear Regression Playground"
   ]
  },
  {
   "cell_type": "markdown",
   "metadata": {},
   "source": [
    "### Goal to explore the following via intentional practice:"
   ]
  },
  {
   "cell_type": "markdown",
   "metadata": {},
   "source": [
    "* Linear regression from scratch using Numpy (single variable + Gradient Descent)\n",
    "* Visualize Error Function (Surface + Contour)\n",
    "Visualize Gradient Descent\n",
    "Linear regression from scratch using Numpy (Multiple variables + Gradient Descent)\n",
    "Linear regression from scratch using Numpy (Multiple variables + Polynomials + Gradient Descent)\n",
    "Linear regression using the Normal equation (Chesky, QR)\n",
    "Linear regression using SKlearn\n",
    "Explore multiple Algo options (e.g. Least Squares, Chesky etc.)\n",
    "Repeat all of the above for (multi-variable, polynomial, learning rates, batch,\n"
   ]
  }
 ],
 "metadata": {
  "kernelspec": {
   "display_name": "Python 3",
   "language": "python",
   "name": "python3"
  },
  "language_info": {
   "codemirror_mode": {
    "name": "ipython",
    "version": 3
   },
   "file_extension": ".py",
   "mimetype": "text/x-python",
   "name": "python",
   "nbconvert_exporter": "python",
   "pygments_lexer": "ipython3",
   "version": "3.6.3"
  }
 },
 "nbformat": 4,
 "nbformat_minor": 2
}
