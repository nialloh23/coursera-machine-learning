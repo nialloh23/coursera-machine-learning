{
 "cells": [
  {
   "cell_type": "markdown",
   "metadata": {
    "collapsed": true
   },
   "source": [
    "# Linear Regression Playground"
   ]
  },
  {
   "cell_type": "markdown",
   "metadata": {},
   "source": [
    "### Goal: explore the following via intentional practice:"
   ]
  },
  {
   "cell_type": "markdown",
   "metadata": {},
   "source": [
    "*1.0 Modelling Approaches:*\n",
    "* Linear regression from scratch using Numpy (single variable + Gradient Descent) [Viz GD + Error Surface]\n",
    "* Linear regression from scratch using Numpy (Multiple variables + Gradient Descent)\n",
    "* Linear regression from scratch using Numpy (Multiple variables + Polynomials + Gradient Descent)\n",
    "* Linear regression using the Normal equation (Chesky, QR) [**DONE**]\n",
    "* Linear regression using SKlearn [**DONE**]\n",
    "* Explore multiple Algo options (e.g. Least Squares, Chesky etc.)\n",
    "* Repeat all of the above for (multi-variable, polynomial, learning rates, batch,\n",
    "\n",
    "*2.0 Playground:*\n",
    "* Explore the effect of different learning rates\n",
    "* Explore the effect of not scaling features (choose extreme example)\n",
    "* Explore the effect of outliers on model performance\n",
    "* Explore the use of batch, stochastic and min-batch (run times, convergence, error rates) (Numpy + scikit learn)\n",
    "* Explore the effect of regularization on the model\n",
    "* Memory, runtime and complexity -> Computational linear algebra (increase number of examples)\n",
    "\n",
    "*3.0 Package Library Explorer:*\n",
    "* Do working example with Scikit learn, Tensorflow, Pytorch, Keras\n",
    "* Read and understand their documentation + how modules/classes are packaged\n",
    "* Playaround with features explored above (learning rate, algo, regularization etc.)\n",
    "\n"
   ]
  },
  {
   "cell_type": "markdown",
   "metadata": {},
   "source": [
    "## 1.0 Modelling Approaches"
   ]
  },
  {
   "cell_type": "markdown",
   "metadata": {},
   "source": [
    "### 1.1 Prepare Data"
   ]
  },
  {
   "cell_type": "code",
   "execution_count": 39,
   "metadata": {
    "collapsed": true
   },
   "outputs": [],
   "source": [
    "#import packages\n",
    "import numpy as np\n",
    "import matplotlib.pyplot as plt"
   ]
  },
  {
   "cell_type": "code",
   "execution_count": 86,
   "metadata": {
    "collapsed": true
   },
   "outputs": [],
   "source": [
    "#create artificial dataset for experimentation\n",
    "\n",
    "X = 2* np.random.rand(100,1) #100x1 shape...random numbers from normal distribution\n",
    "y= 4 + 3*X + np.random.rand(100,1)\n",
    "\n",
    "#Add one column to x for incercept\n",
    "X_ones = np.c_[np.ones((100,1)), X]\n",
    "m=len(X)"
   ]
  },
  {
   "cell_type": "code",
   "execution_count": 58,
   "metadata": {},
   "outputs": [
    {
     "data": {
      "image/png": "[encoded data removed]",
      "text/plain": [
       "<Figure size 432x288 with 1 Axes>"
      ]
     },
     "metadata": {},
     "output_type": "display_data"
    }
   ],
   "source": [
    "#plot the data\n",
    "colors = (\"blue\")\n",
    "plt.scatter(X, y, c=colors,s=15)\n",
    "plt.title('2-D Scatter Plot Random Data')\n",
    "plt.xlabel('x1')\n",
    "plt.ylabel('y')\n",
    "plt.axis([0,2,0,15])\n",
    "plt.show()"
   ]
  },
  {
   "cell_type": "markdown",
   "metadata": {},
   "source": [
    "### 1.2 Normal Equations (1 Variable)"
   ]
  },
  {
   "cell_type": "code",
   "execution_count": 61,
   "metadata": {
    "collapsed": true
   },
   "outputs": [],
   "source": [
    "from numpy.linalg import inv\n",
    "\n",
    "theta = np.linalg.inv(X_ones.T.dot(X_ones)).dot(X_ones.T).dot(y)"
   ]
  },
  {
   "cell_type": "code",
   "execution_count": 107,
   "metadata": {},
   "outputs": [
    {
     "data": {
      "text/plain": [
       "array([[4.53556035],\n",
       "       [2.99078222]])"
      ]
     },
     "execution_count": 107,
     "metadata": {},
     "output_type": "execute_result"
    }
   ],
   "source": [
    "theta"
   ]
  },
  {
   "cell_type": "code",
   "execution_count": 62,
   "metadata": {
    "collapsed": true
   },
   "outputs": [],
   "source": [
    "#Not a bad result....we were hoping for Theta0=4 and Theta1=3. The noise made it impossible to get it bang on"
   ]
  },
  {
   "cell_type": "code",
   "execution_count": 63,
   "metadata": {
    "collapsed": true
   },
   "outputs": [],
   "source": [
    "#Now lets make preductions with theta"
   ]
  },
  {
   "cell_type": "code",
   "execution_count": 75,
   "metadata": {},
   "outputs": [],
   "source": [
    "X_test=np.array([[0.5],[2],[1]])"
   ]
  },
  {
   "cell_type": "code",
   "execution_count": 78,
   "metadata": {},
   "outputs": [],
   "source": [
    "#Add one column to x for incercept\n",
    "X_test_ones = np.c_[np.ones((3,1)), X_test]"
   ]
  },
  {
   "cell_type": "code",
   "execution_count": 79,
   "metadata": {},
   "outputs": [
    {
     "data": {
      "text/plain": [
       "array([[1. , 0.5],\n",
       "       [1. , 2. ],\n",
       "       [1. , 1. ]])"
      ]
     },
     "execution_count": 79,
     "metadata": {},
     "output_type": "execute_result"
    }
   ],
   "source": [
    "X_test_ones"
   ]
  },
  {
   "cell_type": "code",
   "execution_count": 80,
   "metadata": {},
   "outputs": [],
   "source": [
    "y_predict=X_test_ones.dot(theta)"
   ]
  },
  {
   "cell_type": "code",
   "execution_count": 81,
   "metadata": {},
   "outputs": [
    {
     "data": {
      "text/plain": [
       "array([[ 6.03095146],\n",
       "       [10.51712479],\n",
       "       [ 7.52634257]])"
      ]
     },
     "execution_count": 81,
     "metadata": {},
     "output_type": "execute_result"
    }
   ],
   "source": [
    "y_predict"
   ]
  },
  {
   "cell_type": "code",
   "execution_count": 82,
   "metadata": {
    "collapsed": true
   },
   "outputs": [],
   "source": [
    "#Lets plot the models predictions in a new color"
   ]
  },
  {
   "cell_type": "code",
   "execution_count": 83,
   "metadata": {},
   "outputs": [
    {
     "data": {
      "image/png": "[encoded data removed]",
      "text/plain": [
       "<Figure size 432x288 with 1 Axes>"
      ]
     },
     "metadata": {},
     "output_type": "display_data"
    }
   ],
   "source": [
    "#plot the data\n",
    "colors = (\"red\")\n",
    "plt.scatter(X_test, y_predict, c=\"red\",s=50)\n",
    "plt.scatter(X, y, c=\"blue\",s=15)\n",
    "plt.plot(X, np.dot(X_ones, theta), label='Linear Reg Normal Eqn', color='green')\n",
    "\n",
    "plt.title('2-D Scatter Plot Random Data')\n",
    "plt.xlabel('x1')\n",
    "plt.ylabel('y')\n",
    "plt.axis([0,2.5,0,15])\n",
    "plt.show()"
   ]
  },
  {
   "cell_type": "code",
   "execution_count": 84,
   "metadata": {
    "collapsed": true
   },
   "outputs": [],
   "source": [
    "#what is the mean square error using the NEqn (good to compare to others)"
   ]
  },
  {
   "cell_type": "code",
   "execution_count": 98,
   "metadata": {},
   "outputs": [
    {
     "data": {
      "text/plain": [
       "array([[0.04474208]])"
      ]
     },
     "execution_count": 98,
     "metadata": {},
     "output_type": "execute_result"
    }
   ],
   "source": [
    "dt=np.dot(X_ones,theta)-y\n",
    "cost=np.dot(dt.T,dt)/2/m\n",
    "cost"
   ]
  },
  {
   "cell_type": "code",
   "execution_count": null,
   "metadata": {
    "collapsed": true
   },
   "outputs": [],
   "source": [
    "#Try and calculate the R^2 error based on Sklearn implementation"
   ]
  },
  {
   "cell_type": "code",
   "execution_count": 125,
   "metadata": {},
   "outputs": [
    {
     "data": {
      "text/plain": [
       "array([[0.96625878]])"
      ]
     },
     "execution_count": 125,
     "metadata": {},
     "output_type": "execute_result"
    }
   ],
   "source": [
    "u=np.dot(dt.T,dt)\n",
    "y_mean=np.mean(y)\n",
    "dz=(y-y_mean)\n",
    "v=np.dot(dz.T,dz)\n",
    "r_squared=(1-u/v)\n",
    "r_squared\n"
   ]
  },
  {
   "cell_type": "markdown",
   "metadata": {},
   "source": [
    "### 1.3 Sci-Kit Learn Implementation (1 Variable)"
   ]
  },
  {
   "cell_type": "code",
   "execution_count": 99,
   "metadata": {
    "collapsed": true
   },
   "outputs": [],
   "source": [
    "from sklearn.linear_model import LinearRegression"
   ]
  },
  {
   "cell_type": "code",
   "execution_count": 114,
   "metadata": {
    "collapsed": true
   },
   "outputs": [],
   "source": [
    "reg = LinearRegression()"
   ]
  },
  {
   "cell_type": "code",
   "execution_count": 115,
   "metadata": {},
   "outputs": [
    {
     "data": {
      "text/plain": [
       "LinearRegression(copy_X=True, fit_intercept=True, n_jobs=1, normalize=False)"
      ]
     },
     "execution_count": 115,
     "metadata": {},
     "output_type": "execute_result"
    }
   ],
   "source": [
    "reg.fit(X, y)"
   ]
  },
  {
   "cell_type": "code",
   "execution_count": 116,
   "metadata": {},
   "outputs": [
    {
     "data": {
      "text/plain": [
       "array([[2.88018718]])"
      ]
     },
     "execution_count": 116,
     "metadata": {},
     "output_type": "execute_result"
    }
   ],
   "source": [
    "reg.coef_"
   ]
  },
  {
   "cell_type": "code",
   "execution_count": 117,
   "metadata": {},
   "outputs": [
    {
     "data": {
      "text/plain": [
       "array([4.64487362])"
      ]
     },
     "execution_count": 117,
     "metadata": {},
     "output_type": "execute_result"
    }
   ],
   "source": [
    "reg.intercept_ "
   ]
  },
  {
   "cell_type": "code",
   "execution_count": 118,
   "metadata": {},
   "outputs": [
    {
     "data": {
      "text/plain": [
       "array([[ 6.08496721],\n",
       "       [10.40524799],\n",
       "       [ 7.5250608 ]])"
      ]
     },
     "execution_count": 118,
     "metadata": {},
     "output_type": "execute_result"
    }
   ],
   "source": [
    "reg.predict(np.array([[0.5],[2],[1]]))"
   ]
  },
  {
   "cell_type": "code",
   "execution_count": 123,
   "metadata": {},
   "outputs": [],
   "source": [
    "predicted_line=reg.predict(X)"
   ]
  },
  {
   "cell_type": "code",
   "execution_count": 119,
   "metadata": {},
   "outputs": [
    {
     "data": {
      "text/plain": [
       "0.9676857083480109"
      ]
     },
     "execution_count": 119,
     "metadata": {},
     "output_type": "execute_result"
    }
   ],
   "source": [
    "reg.score(X, y)"
   ]
  },
  {
   "cell_type": "code",
   "execution_count": 124,
   "metadata": {},
   "outputs": [
    {
     "data": {
      "image/png": "[encoded data removed]",
      "text/plain": [
       "<Figure size 432x288 with 1 Axes>"
      ]
     },
     "metadata": {},
     "output_type": "display_data"
    }
   ],
   "source": [
    "#plot the data\n",
    "colors = (\"red\")\n",
    "plt.scatter(X_test, y_predict, c=\"red\",s=50)\n",
    "plt.scatter(X, y, c=\"blue\",s=15)\n",
    "plt.plot(X, np.dot(X_ones, theta), label='Linear Reg Normal Eqn', color='green')\n",
    "plt.plot(X, predicted_line , label='Linear Reg SkLearn', color='cyan')\n",
    "\n",
    "\n",
    "plt.title('2-D Scatter Plot Random Data')\n",
    "plt.xlabel('x1')\n",
    "plt.ylabel('y')\n",
    "plt.axis([0,2.5,0,15])\n",
    "plt.show()"
   ]
  },
  {
   "cell_type": "markdown",
   "metadata": {},
   "source": [
    "### 1.4 Gradient Descent Implementation"
   ]
  },
  {
   "cell_type": "code",
   "execution_count": null,
   "metadata": {
    "collapsed": true
   },
   "outputs": [],
   "source": []
  }
 ],
 "metadata": {
  "kernelspec": {
   "display_name": "Python 3",
   "language": "python",
   "name": "python3"
  },
  "language_info": {
   "codemirror_mode": {
    "name": "ipython",
    "version": 3
   },
   "file_extension": ".py",
   "mimetype": "text/x-python",
   "name": "python",
   "nbconvert_exporter": "python",
   "pygments_lexer": "ipython3",
   "version": "3.6.3"
  }
 },
 "nbformat": 4,
 "nbformat_minor": 2
}
